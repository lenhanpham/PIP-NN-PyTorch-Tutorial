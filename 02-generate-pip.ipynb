{
 "cells": [
  {
   "cell_type": "markdown",
   "metadata": {},
   "source": [
    "# 02 Train PIP-NN\n",
    "\n",
    "## Load rawdata files:\n",
    "\n",
    "- `NaOH_train.xyz`\n",
    "- `NaOH_valid.xyz`\n",
    "- `NaOH_CCSD-T_train.txt`\n",
    "- `NaOH_CCSD-T_valid.txt`"
   ]
  },
  {
   "cell_type": "markdown",
   "metadata": {},
   "source": [
    "## PIP"
   ]
  },
  {
   "cell_type": "code",
   "execution_count": 1,
   "metadata": {},
   "outputs": [],
   "source": [
    "from openbabel import pybel\n",
    "from MZMol import MZMol\n",
    "import numpy as np\n",
    "from pip_1_1_1_4 import basis"
   ]
  },
  {
   "cell_type": "code",
   "execution_count": 2,
   "metadata": {},
   "outputs": [],
   "source": [
    "# Load mol\n",
    "def loadxyz(filename):\n",
    "    return [MZMol(mol) for mol in pybel.readfile(format=\"xyz\", filename=filename)]\n",
    "\n",
    "mol_train = loadxyz(\"rawdata/NaOH_train.xyz\")\n",
    "mol_valid = loadxyz(\"rawdata/NaOH_valid.xyz\")"
   ]
  },
  {
   "attachments": {},
   "cell_type": "markdown",
   "metadata": {},
   "source": [
    "### Distance Vectors\n",
    "\n",
    "Since we have the geometry structures of molecules, we can compute their distance matrix:\n",
    "\n",
    "$$\n",
    "D_{ij} = \\begin{bmatrix}\n",
    "0 & r_{12} & r_{13} & \\cdots & r_{1n} \\\\\n",
    "r_{21} & 0 & r_{23} & \\cdots & r_{2n} \\\\\n",
    "r_{31} & r_{32} & 0 & \\cdots & r_{3n} \\\\\n",
    "\\vdots & \\vdots & \\vdots & \\ddots & \\vdots \\\\\n",
    "r_{n1} & r_{n2} & r_{n3} & \\cdots & 0\n",
    "\\end{bmatrix}\n",
    "$$\n",
    "\n",
    "where $r_{ij}$ is the distance between atom $i$ and atom $j$, also, $r_{ij} = r_{ji}$.\n",
    "\n",
    "If we only take the none-zero elements in upper triangular part of distance matrix, we will get the distance vector $R$.\n",
    "\n",
    "### Morse-Like Transform\n",
    "\n",
    "We will perform this transform on distance vector $R$\n",
    "\n",
    "$$\n",
    "\\mathrm{morse}(r) = \\exp \\left[ - \\frac{r}{\\alpha}\\right]\n",
    "$$\n",
    "\n",
    "### Permutation Invariant Polynomial\n",
    "\n",
    "Here we need to generate PIP from the Morse-like vector, the fortran module from MSA-2.0 is used."
   ]
  },
  {
   "cell_type": "code",
   "execution_count": 3,
   "metadata": {},
   "outputs": [
    {
     "data": {
      "text/plain": [
       "((12720, 34), (3181, 34))"
      ]
     },
     "execution_count": 3,
     "metadata": {},
     "output_type": "execute_result"
    }
   ],
   "source": [
    "def morse(r: np.array, alpha=1.0) -> np.array:\n",
    "    return np.exp(-1.0 * r / alpha)\n",
    "\n",
    "r_train = np.array([mol.distance_vector for mol in mol_train])\n",
    "M_train = np.apply_along_axis(morse, 1, r_train)\n",
    "pip_train = np.apply_along_axis(basis.bemsav, 1, M_train)\n",
    "X_train = pip_train[:, 1:]\n",
    "\n",
    "r_valid = np.array([mol.distance_vector for mol in mol_valid])\n",
    "M_valid = np.apply_along_axis(morse, 1, r_valid)\n",
    "pip_valid = np.apply_along_axis(basis.bemsav, 1, M_valid)\n",
    "X_valid = pip_valid[:, 1:]\n",
    "\n",
    "X_train.shape, X_valid.shape"
   ]
  },
  {
   "cell_type": "markdown",
   "metadata": {},
   "source": [
    "## Energy"
   ]
  },
  {
   "cell_type": "code",
   "execution_count": 4,
   "metadata": {},
   "outputs": [
    {
     "data": {
      "text/plain": [
       "((12720, 1), (3181, 1))"
      ]
     },
     "execution_count": 4,
     "metadata": {},
     "output_type": "execute_result"
    }
   ],
   "source": [
    "from scipy import constants as C\n",
    "\n",
    "# Load E\n",
    "E_train = np.loadtxt(\"rawdata/NaOH_CCSD-T_train.txt\").reshape((-1, 1))\n",
    "E_valid = np.loadtxt(\"rawdata/NaOH_CCSD-T_valid.dat\").reshape((-1, 1))\n",
    "\n",
    "E_min = min(E_train.min(), E_valid.min())\n",
    "Y_train = (E_train - E_min) * C.physical_constants[\"Hartree energy in eV\"][0]\n",
    "Y_valid = (E_valid - E_min) * C.physical_constants[\"Hartree energy in eV\"][0]\n",
    "\n",
    "Y_train.shape, Y_valid.shape"
   ]
  },
  {
   "cell_type": "markdown",
   "metadata": {},
   "source": [
    "## Save to files"
   ]
  },
  {
   "cell_type": "code",
   "execution_count": 5,
   "metadata": {},
   "outputs": [],
   "source": [
    "np.savetxt(\"X_train.txt\", X_train)\n",
    "np.savetxt(\"X_valid.txt\", X_valid)\n",
    "np.savetxt(\"Y_train.txt\", Y_train)\n",
    "np.savetxt(\"Y_valid.txt\", Y_valid)"
   ]
  },
  {
   "cell_type": "code",
   "execution_count": null,
   "metadata": {},
   "outputs": [],
   "source": []
  }
 ],
 "metadata": {
  "kernelspec": {
   "display_name": "chem-env",
   "language": "python",
   "name": "python3"
  },
  "language_info": {
   "codemirror_mode": {
    "name": "ipython",
    "version": 3
   },
   "file_extension": ".py",
   "mimetype": "text/x-python",
   "name": "python",
   "nbconvert_exporter": "python",
   "pygments_lexer": "ipython3",
   "version": "3.8.13"
  },
  "orig_nbformat": 4,
  "vscode": {
   "interpreter": {
    "hash": "34be4406535d93882f399361d4ef747b555b2f60198d79bd4e09823e7690c8ec"
   }
  }
 },
 "nbformat": 4,
 "nbformat_minor": 2
}
