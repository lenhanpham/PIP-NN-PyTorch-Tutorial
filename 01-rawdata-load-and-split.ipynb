{
 "cells": [
  {
   "cell_type": "markdown",
   "metadata": {},
   "source": [
    "# 01 Load rawdata and Split"
   ]
  },
  {
   "cell_type": "code",
   "execution_count": 3,
   "metadata": {},
   "outputs": [],
   "source": [
    "from openbabel import pybel\n",
    "import numpy as np\n",
    "import torch\n",
    "from sklearn.model_selection import train_test_split"
   ]
  },
  {
   "cell_type": "code",
   "execution_count": 4,
   "metadata": {},
   "outputs": [
    {
     "data": {
      "text/plain": [
       "((15901,), (15901,))"
      ]
     },
     "execution_count": 4,
     "metadata": {},
     "output_type": "execute_result"
    }
   ],
   "source": [
    "# load energy (in Hartree)\n",
    "E = np.loadtxt(\"rawdata/NaOH_CCSD-T.dat\", dtype=np.float64)\n",
    "# load NaOH xyz coords\n",
    "mol = np.array([mol for mol in pybel.readfile(format=\"xyz\", filename=\"rawdata/NaOH.xyz\")])\n",
    "\n",
    "E.shape, mol.shape"
   ]
  },
  {
   "cell_type": "code",
   "execution_count": 5,
   "metadata": {},
   "outputs": [
    {
     "data": {
      "text/plain": [
       "((12720,), (3181,))"
      ]
     },
     "execution_count": 5,
     "metadata": {},
     "output_type": "execute_result"
    }
   ],
   "source": [
    "# split\n",
    "mol_train, mol_valid, E_train, E_valid = train_test_split(mol, E, test_size=0.2, random_state=114514)\n",
    "mol_train.shape, mol_valid.shape"
   ]
  },
  {
   "cell_type": "code",
   "execution_count": 6,
   "metadata": {},
   "outputs": [],
   "source": [
    "# save\n",
    "m = mol_train[0]\n",
    "m.title = \"\"\n",
    "\n",
    "# E\n",
    "np.savetxt(\"rawdata/NaOH_CCSD-T_train.txt\", E_train)\n",
    "np.savetxt(\"rawdata/NaOH_CCSD-T_valid.dat\", E_valid)\n",
    "\n",
    "# xyz\n",
    "def savexyz(filename, mol):\n",
    "    with open(filename, \"w\") as f:\n",
    "        for m in mol:\n",
    "            m.title = \"\"\n",
    "\n",
    "        f.write(\"\".join([m.write(format=\"xyz\") for m in mol]))\n",
    "\n",
    "savexyz(\"rawdata/NaOH_train.xyz\", mol_train)\n",
    "savexyz(\"rawdata/NaOH_valid.xyz\", mol_valid)"
   ]
  },
  {
   "cell_type": "code",
   "execution_count": null,
   "metadata": {},
   "outputs": [],
   "source": []
  }
 ],
 "metadata": {
  "kernelspec": {
   "display_name": "chem-env",
   "language": "python",
   "name": "python3"
  },
  "language_info": {
   "codemirror_mode": {
    "name": "ipython",
    "version": 3
   },
   "file_extension": ".py",
   "mimetype": "text/x-python",
   "name": "python",
   "nbconvert_exporter": "python",
   "pygments_lexer": "ipython3",
   "version": "3.8.13 (default, Oct 21 2022, 23:50:54) \n[GCC 11.2.0]"
  },
  "orig_nbformat": 4,
  "vscode": {
   "interpreter": {
    "hash": "34be4406535d93882f399361d4ef747b555b2f60198d79bd4e09823e7690c8ec"
   }
  }
 },
 "nbformat": 4,
 "nbformat_minor": 2
}
